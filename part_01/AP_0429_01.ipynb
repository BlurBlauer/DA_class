{
 "cells": [
  {
   "cell_type": "markdown",
   "metadata": {},
   "source": [
    "### Packing & Unpacking Arguments: *args"
   ]
  },
  {
   "cell_type": "markdown",
   "metadata": {},
   "source": [
    "다음과 같이 입력한 인자를 제곱한 후 모두 합하는 함수 `ssum()`를 만든다고 가정하자. 이때 인자의 갯수는 1개 이상이다.  \n",
    "- ssum(2) &rarr; $2^2$\n",
    "- ssum(2,3) &rarr; $2^2+3^2$\n",
    "- ssum(2,3,4) &rarr; $2^2+3^2+4^2$\n",
    "- ssum(2,3,4,5) &rarr; $2^2+3^2+4^2+5^2$  \n",
    "**...**"
   ]
  },
  {
   "cell_type": "markdown",
   "metadata": {},
   "source": [
    "일단, 아래와 같이 함수를 정의해보자."
   ]
  },
  {
   "cell_type": "code",
   "execution_count": 1,
   "metadata": {},
   "outputs": [],
   "source": [
    "def ssum(a,b,c,d):\n",
    "    return a**2 + b**2 + c**2 + d**2"
   ]
  },
  {
   "cell_type": "code",
   "execution_count": 2,
   "metadata": {},
   "outputs": [
    {
     "data": {
      "text/plain": [
       "54"
      ]
     },
     "execution_count": 2,
     "metadata": {},
     "output_type": "execute_result"
    }
   ],
   "source": [
    "ssum(2,3,4,5)"
   ]
  },
  {
   "cell_type": "markdown",
   "metadata": {},
   "source": [
    "함수 호출 시 인자가 4개일 때는 잘 돌아간다. 하지만,"
   ]
  },
  {
   "cell_type": "code",
   "execution_count": 3,
   "metadata": {},
   "outputs": [
    {
     "ename": "TypeError",
     "evalue": "ssum() missing 3 required positional arguments: 'b', 'c', and 'd'",
     "output_type": "error",
     "traceback": [
      "\u001b[0;31m---------------------------------------------------------------------------\u001b[0m",
      "\u001b[0;31mTypeError\u001b[0m                                 Traceback (most recent call last)",
      "\u001b[0;32m<ipython-input-3-1881b87031b0>\u001b[0m in \u001b[0;36m<module>\u001b[0;34m\u001b[0m\n\u001b[0;32m----> 1\u001b[0;31m \u001b[0mssum\u001b[0m\u001b[0;34m(\u001b[0m\u001b[0;36m2\u001b[0m\u001b[0;34m)\u001b[0m\u001b[0;34m\u001b[0m\u001b[0;34m\u001b[0m\u001b[0m\n\u001b[0m\u001b[1;32m      2\u001b[0m \u001b[0;31m#인자 부족\u001b[0m\u001b[0;34m\u001b[0m\u001b[0;34m\u001b[0m\u001b[0;34m\u001b[0m\u001b[0m\n",
      "\u001b[0;31mTypeError\u001b[0m: ssum() missing 3 required positional arguments: 'b', 'c', and 'd'"
     ]
    }
   ],
   "source": [
    "ssum(2)\n",
    "#인자 부족"
   ]
  },
  {
   "cell_type": "code",
   "execution_count": 4,
   "metadata": {},
   "outputs": [
    {
     "ename": "TypeError",
     "evalue": "ssum() missing 2 required positional arguments: 'c' and 'd'",
     "output_type": "error",
     "traceback": [
      "\u001b[0;31m---------------------------------------------------------------------------\u001b[0m",
      "\u001b[0;31mTypeError\u001b[0m                                 Traceback (most recent call last)",
      "\u001b[0;32m<ipython-input-4-4cfe405ebae9>\u001b[0m in \u001b[0;36m<module>\u001b[0;34m\u001b[0m\n\u001b[0;32m----> 1\u001b[0;31m \u001b[0mssum\u001b[0m\u001b[0;34m(\u001b[0m\u001b[0;36m2\u001b[0m\u001b[0;34m,\u001b[0m\u001b[0;36m3\u001b[0m\u001b[0;34m)\u001b[0m\u001b[0;34m\u001b[0m\u001b[0;34m\u001b[0m\u001b[0m\n\u001b[0m\u001b[1;32m      2\u001b[0m \u001b[0;31m#인자가 부족함.\u001b[0m\u001b[0;34m\u001b[0m\u001b[0;34m\u001b[0m\u001b[0;34m\u001b[0m\u001b[0m\n",
      "\u001b[0;31mTypeError\u001b[0m: ssum() missing 2 required positional arguments: 'c' and 'd'"
     ]
    }
   ],
   "source": [
    "ssum(2,3)\n",
    "#인자가 부족함."
   ]
  },
  {
   "cell_type": "markdown",
   "metadata": {},
   "source": [
    "인자가 4개가 아닐 때는 모두 TypeError가 발생한다.  \n",
    "=> 가변인자(variadic parameters)를 사용하고자 할 때 이를 나타낼 수 있는 문법이 필요한데, 이것이 인자의 `packing`과 `unpacking`이다."
   ]
  },
  {
   "cell_type": "markdown",
   "metadata": {},
   "source": [
    "함수를 정의할 때 가변적인 인자를 `*args`로 나타내면 된다. (여기서 args라는 변수명은 얼마든지 바꿀 수 있지만 그대로 사용하는 것이 관습)"
   ]
  },
  {
   "cell_type": "code",
   "execution_count": 5,
   "metadata": {},
   "outputs": [],
   "source": [
    "def ssum(*args):\n",
    "    return sum([i**2 for i in args])\n",
    "\n",
    "#가변적인 인자"
   ]
  },
  {
   "cell_type": "code",
   "execution_count": 6,
   "metadata": {},
   "outputs": [
    {
     "data": {
      "text/plain": [
       "54"
      ]
     },
     "execution_count": 6,
     "metadata": {},
     "output_type": "execute_result"
    }
   ],
   "source": [
    "ssum(2,3,4,5)\n",
    "#sum() 함수는 리스트 형태를 인자로 받는다.\n",
    "# (2, 3, 4, 5)의 값이 args에 저장됨.(튜플 형태로 패킹됨.)\n",
    "# args로 패킹됨."
   ]
  },
  {
   "cell_type": "code",
   "execution_count": 7,
   "metadata": {},
   "outputs": [
    {
     "data": {
      "text/plain": [
       "6"
      ]
     },
     "execution_count": 7,
     "metadata": {},
     "output_type": "execute_result"
    }
   ],
   "source": [
    "sum([1, 2, 3])\n",
    "#sum() 함수는 리스트 형태를 인자로 받는다."
   ]
  },
  {
   "cell_type": "code",
   "execution_count": 8,
   "metadata": {},
   "outputs": [
    {
     "data": {
      "text/plain": [
       "6"
      ]
     },
     "execution_count": 8,
     "metadata": {},
     "output_type": "execute_result"
    }
   ],
   "source": [
    "sum([1,2,3])"
   ]
  },
  {
   "cell_type": "code",
   "execution_count": 9,
   "metadata": {},
   "outputs": [
    {
     "data": {
      "text/plain": [
       "(29, 13, 4)"
      ]
     },
     "execution_count": 9,
     "metadata": {},
     "output_type": "execute_result"
    }
   ],
   "source": [
    "ssum(2,3,4), ssum(2,3), ssum(2)"
   ]
  },
  {
   "cell_type": "markdown",
   "metadata": {},
   "source": [
    "함수 내에서 `args`는 packing을 의미한다. (즉, 넘어오는 인자값에 튜플 괄호를 씌운다고 생각하면 됨)"
   ]
  },
  {
   "cell_type": "code",
   "execution_count": 10,
   "metadata": {},
   "outputs": [
    {
     "name": "stdout",
     "output_type": "stream",
     "text": [
      "(2, 3, 4, 5)\n"
     ]
    },
    {
     "data": {
      "text/plain": [
       "54"
      ]
     },
     "execution_count": 10,
     "metadata": {},
     "output_type": "execute_result"
    }
   ],
   "source": [
    "def ssum(*args):\n",
    "    print(args)\n",
    "    return sum([i**2 for i in args])\n",
    "\n",
    "ssum(2,3,4,5)\n",
    "\n",
    "#\"*\"를 붙이면 unpacking, \"*\"를 사용하지 않으면 packing"
   ]
  },
  {
   "cell_type": "markdown",
   "metadata": {},
   "source": [
    "넘어온 모든 인자값를 더한 후 그 값을 제곱하여 반환하도록 `ssum()`을 아래와 같이 빠꾼다고 하자."
   ]
  },
  {
   "cell_type": "code",
   "execution_count": 11,
   "metadata": {},
   "outputs": [],
   "source": [
    "def ssum(*args):\n",
    "    return sum([*args])**2"
   ]
  },
  {
   "cell_type": "code",
   "execution_count": 12,
   "metadata": {},
   "outputs": [
    {
     "data": {
      "text/plain": [
       "196"
      ]
     },
     "execution_count": 12,
     "metadata": {},
     "output_type": "execute_result"
    }
   ],
   "source": [
    "ssum(2,3,4,5)"
   ]
  },
  {
   "cell_type": "markdown",
   "metadata": {},
   "source": [
    "이때, `*args`는 unpacking을 나타낸다. (즉, 튜플의 괄호를 없앤다고 생각하면 됨)"
   ]
  },
  {
   "cell_type": "markdown",
   "metadata": {},
   "source": [
    "아래와 같이 `*args`는 함수 밖에서도 언제든 사용할 수 있다."
   ]
  },
  {
   "cell_type": "code",
   "execution_count": 13,
   "metadata": {},
   "outputs": [
    {
     "data": {
      "text/plain": [
       "81"
      ]
     },
     "execution_count": 13,
     "metadata": {},
     "output_type": "execute_result"
    }
   ],
   "source": [
    "args = (2,3,4)\n",
    "ssum(*args)"
   ]
  },
  {
   "cell_type": "markdown",
   "metadata": {},
   "source": [
    "<font color = \"blue\"><p>\n",
    "#### Ex) `**kwargs`라는 또 다른 packing/unpacking 표현은 무엇을 의미하는가? 다음 함수를 실행한 결과를 가지고 설명하라.  \n",
    "*Hint: https://mingrammer.com/understanding-the-asterisk-of-python/ *"
   ]
  },
  {
   "cell_type": "code",
   "execution_count": 14,
   "metadata": {},
   "outputs": [],
   "source": [
    "def g(x, **kwargs) :\n",
    "    return x, kwargs\n",
    "#kwargs = keyword arguments"
   ]
  },
  {
   "cell_type": "code",
   "execution_count": 15,
   "metadata": {},
   "outputs": [
    {
     "data": {
      "text/plain": [
       "(1, {'a': 2, 'b': 3, 'c': 4, 'd': 5})"
      ]
     },
     "execution_count": 15,
     "metadata": {},
     "output_type": "execute_result"
    }
   ],
   "source": [
    "g(1, a = 2, b = 3, c = 4, d = 5)\n",
    "\n",
    "# **이면 키워드 방식으로 변수를 넘겨줌."
   ]
  },
  {
   "cell_type": "markdown",
   "metadata": {},
   "source": [
    "<font color = \"#CC3D3D\"><p>\n",
    "# Date/time & String"
   ]
  },
  {
   "cell_type": "markdown",
   "metadata": {},
   "source": [
    "# 날짜와 시간"
   ]
  },
  {
   "cell_type": "markdown",
   "metadata": {},
   "source": [
    "- 날짜와 시간은 파이썬 기본 자료형에는 포함되어 있지 않지만, 데이터 차리에 있어 빠질 수 없는 중요한 자료형이다. \n",
    "- 날짜를 처리할 땐 [`arrow`](https://arrow.readthedocs.io/en/latest/)라는 라이브러리를 주로 사용한다. (파이썬 표준 라이브러리인 `datetime`을 대체)"
   ]
  },
  {
   "cell_type": "markdown",
   "metadata": {},
   "source": [
    "### 설치 및 모듈 가져오기"
   ]
  },
  {
   "cell_type": "code",
   "execution_count": 16,
   "metadata": {},
   "outputs": [
    {
     "name": "stdout",
     "output_type": "stream",
     "text": [
      "Requirement already satisfied: arrow in /Users/seongyoon/programming/program/anaconda3/lib/python3.7/site-packages (0.15.5)\n",
      "Requirement already satisfied: python-dateutil in /Users/seongyoon/programming/program/anaconda3/lib/python3.7/site-packages (from arrow) (2.8.1)\n",
      "Requirement already satisfied: six>=1.5 in /Users/seongyoon/programming/program/anaconda3/lib/python3.7/site-packages (from python-dateutil->arrow) (1.14.0)\n",
      "Note: you may need to restart the kernel to use updated packages.\n"
     ]
    }
   ],
   "source": [
    "pip install arrow"
   ]
  },
  {
   "cell_type": "code",
   "execution_count": 17,
   "metadata": {},
   "outputs": [],
   "source": [
    "import arrow"
   ]
  },
  {
   "cell_type": "code",
   "execution_count": 18,
   "metadata": {},
   "outputs": [
    {
     "name": "stdout",
     "output_type": "stream",
     "text": [
      "AP_0318_01.ipynb AP_0422_01.ipynb Untitled.ipynb   mymath.py\r\n",
      "AP_0325_01.ipynb AP_0422_02.ipynb \u001b[34m__pycache__\u001b[m\u001b[m      \u001b[34msolution\u001b[m\u001b[m\r\n",
      "AP_0401_01.ipynb AP_0429_01.ipynb \u001b[34massignments\u001b[m\u001b[m\r\n",
      "AP_0408_01.ipynb Obama_words.txt  data_pep.csv\r\n"
     ]
    }
   ],
   "source": [
    "!ls\n",
    "#터미널(cmd)에서 사용하는 명령어를 사용할 수 있음."
   ]
  },
  {
   "cell_type": "code",
   "execution_count": 19,
   "metadata": {},
   "outputs": [
    {
     "name": "stdout",
     "output_type": "stream",
     "text": [
      "AP_0318_01.ipynb  AP_0422_01.ipynb  Untitled.ipynb    mymath.py\r\n",
      "AP_0325_01.ipynb  AP_0422_02.ipynb  \u001b[34m__pycache__\u001b[m\u001b[m/      \u001b[34msolution\u001b[m\u001b[m/\r\n",
      "AP_0401_01.ipynb  AP_0429_01.ipynb  \u001b[34massignments\u001b[m\u001b[m/\r\n",
      "AP_0408_01.ipynb  Obama_words.txt   data_pep.csv\r\n"
     ]
    }
   ],
   "source": [
    "%ls"
   ]
  },
  {
   "cell_type": "markdown",
   "metadata": {},
   "source": [
    "### now\n",
    "`arrow.now()`를 이용하여 현재시간을 알 수 있다."
   ]
  },
  {
   "cell_type": "code",
   "execution_count": 20,
   "metadata": {},
   "outputs": [
    {
     "data": {
      "text/plain": [
       "<Arrow [2020-05-03T15:13:10.101801+09:00]>"
      ]
     },
     "execution_count": 20,
     "metadata": {},
     "output_type": "execute_result"
    }
   ],
   "source": [
    "arrow.now()"
   ]
  },
  {
   "cell_type": "markdown",
   "metadata": {},
   "source": [
    "다른 장소의 현지 시간을 구할수도 있다."
   ]
  },
  {
   "cell_type": "code",
   "execution_count": 21,
   "metadata": {},
   "outputs": [
    {
     "data": {
      "text/plain": [
       "<Arrow [2020-05-02T23:13:10.108612-07:00]>"
      ]
     },
     "execution_count": 21,
     "metadata": {},
     "output_type": "execute_result"
    }
   ],
   "source": [
    "arrow.now('US/Pacific')  # 미태평양시간의 현재시간을 구한다."
   ]
  },
  {
   "cell_type": "markdown",
   "metadata": {},
   "source": [
    "### get\n",
    "날짜를 arrow 형태로 받고 싶다면, `arrow.get()`을 사용하면 된다."
   ]
  },
  {
   "cell_type": "code",
   "execution_count": 22,
   "metadata": {},
   "outputs": [
    {
     "data": {
      "text/plain": [
       "<Arrow [2020-04-29T00:00:00+00:00]>"
      ]
     },
     "execution_count": 22,
     "metadata": {},
     "output_type": "execute_result"
    }
   ],
   "source": [
    "arrow.get('2020-04-29')  # 2020년 4월 29일을 arrow 형태로 가져온다."
   ]
  },
  {
   "cell_type": "markdown",
   "metadata": {},
   "source": [
    "시간 단위까지 넣어주고 싶다면 날짜 뒤에 넘겨주면 된다."
   ]
  },
  {
   "cell_type": "code",
   "execution_count": 23,
   "metadata": {},
   "outputs": [
    {
     "data": {
      "text/plain": [
       "<Arrow [2020-04-29T16:45:00+00:00]>"
      ]
     },
     "execution_count": 23,
     "metadata": {},
     "output_type": "execute_result"
    }
   ],
   "source": [
    "date = arrow.get('2020-04-29 16:45') # 2020년 4월 29일 오후 4시 45분을 넘겨준다.\n",
    "date"
   ]
  },
  {
   "cell_type": "markdown",
   "metadata": {},
   "source": [
    "문자열을 사용하지 않고도 날짜를 지정할 수 있다."
   ]
  },
  {
   "cell_type": "code",
   "execution_count": 24,
   "metadata": {
    "scrolled": true
   },
   "outputs": [
    {
     "data": {
      "text/plain": [
       "<Arrow [2020-04-29T00:00:00+00:00]>"
      ]
     },
     "execution_count": 24,
     "metadata": {},
     "output_type": "execute_result"
    }
   ],
   "source": [
    "date = arrow.get(2020, 4, 29)\n",
    "#년 월 일 입력.\n",
    "date"
   ]
  },
  {
   "cell_type": "code",
   "execution_count": 25,
   "metadata": {},
   "outputs": [
    {
     "data": {
      "text/plain": [
       "<Arrow [2020-04-29T16:26:00+00:00]>"
      ]
     },
     "execution_count": 25,
     "metadata": {},
     "output_type": "execute_result"
    }
   ],
   "source": [
    "date = arrow.get(2020, 4, 29, 16, 26)\n",
    "date\n",
    "#년 월 일 시 분 도 입력 가능."
   ]
  },
  {
   "cell_type": "markdown",
   "metadata": {},
   "source": [
    "날짜가 어떻게 구성되어있는지 직접 지정할 수도 있다."
   ]
  },
  {
   "cell_type": "code",
   "execution_count": 26,
   "metadata": {},
   "outputs": [
    {
     "data": {
      "text/plain": [
       "<Arrow [2019-04-10T00:00:00+00:00]>"
      ]
     },
     "execution_count": 26,
     "metadata": {},
     "output_type": "execute_result"
    }
   ],
   "source": [
    "arrow.get('20190410', 'YYYYMMDD')  # 연도 네 자리, 월 두자리, 일 두자리로 인식하게 지정"
   ]
  },
  {
   "cell_type": "code",
   "execution_count": 27,
   "metadata": {},
   "outputs": [
    {
     "data": {
      "text/plain": [
       "<Arrow [2019-04-10T00:00:00+00:00]>"
      ]
     },
     "execution_count": 27,
     "metadata": {},
     "output_type": "execute_result"
    }
   ],
   "source": [
    "arrow.get('04/10/19', 'MM/DD/YY')"
   ]
  },
  {
   "cell_type": "markdown",
   "metadata": {},
   "source": [
    "### format\n",
    "날짜의 출력 형식을 지정할 수 있게 해준다.\n",
    "- `Y`는 연도,\n",
    "- `M`는 월,\n",
    "- `D`는 일,\n",
    "- `h`는 시,\n",
    "- `m`은 분,\n",
    "- `s`는 초를 뜻한다.\n",
    "<img align='left' src='http://drive.google.com/uc?export=view&id=1ophVqbfhPiIgux_-4YUqeUoyJdtWytbl'>"
   ]
  },
  {
   "cell_type": "markdown",
   "metadata": {},
   "source": [
    "예를 들어, 날짜를 '년/월' 형식으로 나타내고 싶다면 format 에 'YY/MM'을 넘겨준다."
   ]
  },
  {
   "cell_type": "code",
   "execution_count": 28,
   "metadata": {},
   "outputs": [
    {
     "data": {
      "text/plain": [
       "'20/04'"
      ]
     },
     "execution_count": 28,
     "metadata": {},
     "output_type": "execute_result"
    }
   ],
   "source": [
    "date.format('YY/MM')"
   ]
  },
  {
   "cell_type": "code",
   "execution_count": 29,
   "metadata": {},
   "outputs": [
    {
     "data": {
      "text/plain": [
       "'2020.04'"
      ]
     },
     "execution_count": 29,
     "metadata": {},
     "output_type": "execute_result"
    }
   ],
   "source": [
    "date.format('YYYY.MM')"
   ]
  },
  {
   "cell_type": "code",
   "execution_count": 30,
   "metadata": {},
   "outputs": [
    {
     "data": {
      "text/plain": [
       "'2020.April'"
      ]
     },
     "execution_count": 30,
     "metadata": {},
     "output_type": "execute_result"
    }
   ],
   "source": [
    "date.format('YYYY.MMMM')  # M 4개를 사용하면 숫자 대신 영어로 월이 출력된다."
   ]
  },
  {
   "cell_type": "code",
   "execution_count": 31,
   "metadata": {},
   "outputs": [
    {
     "data": {
      "text/plain": [
       "'20년 04월 29일'"
      ]
     },
     "execution_count": 31,
     "metadata": {},
     "output_type": "execute_result"
    }
   ],
   "source": [
    "date.format('YY년 MM월 DD일')"
   ]
  },
  {
   "cell_type": "code",
   "execution_count": 32,
   "metadata": {
    "scrolled": true
   },
   "outputs": [
    {
     "data": {
      "text/plain": [
       "'Wednesday'"
      ]
     },
     "execution_count": 32,
     "metadata": {},
     "output_type": "execute_result"
    }
   ],
   "source": [
    "date.format('dddd')  # d 4개를 사용하면 숫자 대신 영어로 요일이 출력된다."
   ]
  },
  {
   "cell_type": "code",
   "execution_count": 33,
   "metadata": {},
   "outputs": [
    {
     "data": {
      "text/plain": [
       "'Wed'"
      ]
     },
     "execution_count": 33,
     "metadata": {},
     "output_type": "execute_result"
    }
   ],
   "source": [
    "date.format('ddd') #ddd 일 경우 약칭을 출력됨."
   ]
  },
  {
   "cell_type": "code",
   "execution_count": 34,
   "metadata": {},
   "outputs": [
    {
     "data": {
      "text/plain": [
       "'수요일'"
      ]
     },
     "execution_count": 34,
     "metadata": {},
     "output_type": "execute_result"
    }
   ],
   "source": [
    "date.format('dddd', locale='ko')  # locale 인자를 'kr'로 지정하면 우리말로 요일이 출력된다."
   ]
  },
  {
   "cell_type": "markdown",
   "metadata": {},
   "source": [
    "### shift / replace\n",
    "해당 날짜를 다른 날짜로 옮길 수 있다."
   ]
  },
  {
   "cell_type": "code",
   "execution_count": 35,
   "metadata": {},
   "outputs": [
    {
     "data": {
      "text/plain": [
       "<Arrow [2020-05-20T16:26:00+00:00]>"
      ]
     },
     "execution_count": 35,
     "metadata": {},
     "output_type": "execute_result"
    }
   ],
   "source": [
    "three_weeks_later = date.shift(weeks=3)  # date 를 3 주후의 시간으로 옮긴다.\n",
    "three_weeks_later"
   ]
  },
  {
   "cell_type": "code",
   "execution_count": 36,
   "metadata": {},
   "outputs": [
    {
     "data": {
      "text/plain": [
       "<Arrow [2020-04-08T16:26:00+00:00]>"
      ]
     },
     "execution_count": 36,
     "metadata": {},
     "output_type": "execute_result"
    }
   ],
   "source": [
    "three_weeks_before = date.shift(weeks=-3) # date 를 3주 전의 시간으로 옮긴다.\n",
    "three_weeks_before"
   ]
  },
  {
   "cell_type": "markdown",
   "metadata": {},
   "source": [
    "주 단위 외에도 년, 일, 시간 단위 까지 이동을 할 수 있다."
   ]
  },
  {
   "cell_type": "code",
   "execution_count": 37,
   "metadata": {},
   "outputs": [
    {
     "data": {
      "text/plain": [
       "<Arrow [2020-05-02T16:26:00+00:00]>"
      ]
     },
     "execution_count": 37,
     "metadata": {},
     "output_type": "execute_result"
    }
   ],
   "source": [
    "date.shift(days=3)  # date 를 3일 후의 시간으로 옮긴다."
   ]
  },
  {
   "cell_type": "markdown",
   "metadata": {},
   "source": [
    "해당 일로 지정할 수 있다."
   ]
  },
  {
   "cell_type": "code",
   "execution_count": 38,
   "metadata": {},
   "outputs": [
    {
     "data": {
      "text/plain": [
       "<Arrow [2020-04-03T16:26:00+00:00]>"
      ]
     },
     "execution_count": 38,
     "metadata": {},
     "output_type": "execute_result"
    }
   ],
   "source": [
    "date.replace(day=3) # date의 날짜를 3일로 옮긴다."
   ]
  },
  {
   "cell_type": "markdown",
   "metadata": {},
   "source": [
    "### weekday\n",
    "- 해당 날짜가 무슨 요일이였는지도 알 수 있다.\n",
    "- `0`이 월요일이고, `6`은 일요일이다."
   ]
  },
  {
   "cell_type": "code",
   "execution_count": 39,
   "metadata": {},
   "outputs": [
    {
     "data": {
      "text/plain": [
       "2"
      ]
     },
     "execution_count": 39,
     "metadata": {},
     "output_type": "execute_result"
    }
   ],
   "source": [
    "date.weekday()  # date 변수의 날짜가 무슨 요일이였는지 알아보자"
   ]
  },
  {
   "cell_type": "markdown",
   "metadata": {},
   "source": [
    "### 날짜 빼기\n",
    "arrow 에서 `-`을 사용해 날짜에서 날짜를 뺄 수 있다."
   ]
  },
  {
   "cell_type": "code",
   "execution_count": 40,
   "metadata": {},
   "outputs": [],
   "source": [
    "date1 = arrow.get('2019-11-12')  # date1을 11월 12일로 지정한다.\n",
    "date2 = arrow.get('2019-12-01')  # date2를 12월 1일로 지정한다."
   ]
  },
  {
   "cell_type": "code",
   "execution_count": 41,
   "metadata": {},
   "outputs": [
    {
     "data": {
      "text/plain": [
       "datetime.timedelta(days=19)"
      ]
     },
     "execution_count": 41,
     "metadata": {},
     "output_type": "execute_result"
    }
   ],
   "source": [
    "difference = date2 - date1  # date2 에서 date1 을 빼준다.\n",
    "difference #정수 값으로 출려되지 않음. --> difference.days을 통해 값을 뽑아 낼 수 있음."
   ]
  },
  {
   "cell_type": "code",
   "execution_count": 42,
   "metadata": {},
   "outputs": [
    {
     "data": {
      "text/plain": [
       "19"
      ]
     },
     "execution_count": 42,
     "metadata": {},
     "output_type": "execute_result"
    }
   ],
   "source": [
    "difference.days  # difference.days 로 총 며칠인지 확인한다."
   ]
  },
  {
   "cell_type": "markdown",
   "metadata": {},
   "source": [
    "### humanize"
   ]
  },
  {
   "cell_type": "code",
   "execution_count": 43,
   "metadata": {},
   "outputs": [],
   "source": [
    "date = arrow.now().shift(days=2) "
   ]
  },
  {
   "cell_type": "code",
   "execution_count": 44,
   "metadata": {},
   "outputs": [
    {
     "data": {
      "text/plain": [
       "'in 2 days'"
      ]
     },
     "execution_count": 44,
     "metadata": {},
     "output_type": "execute_result"
    }
   ],
   "source": [
    "date.humanize()"
   ]
  },
  {
   "cell_type": "code",
   "execution_count": 45,
   "metadata": {},
   "outputs": [
    {
     "data": {
      "text/plain": [
       "'2일 후'"
      ]
     },
     "execution_count": 45,
     "metadata": {},
     "output_type": "execute_result"
    }
   ],
   "source": [
    "date.humanize(locale='ko')"
   ]
  },
  {
   "cell_type": "markdown",
   "metadata": {},
   "source": [
    "<font color = \"blue\">\n",
    "#### Ex) 날짜를 나타내는 문자열 리스트 dates로부터 각 날짜에 상응하는 요일을 출력하는 코드이다. 이 코드를 1) list comprehension, 2) map 함수를 이용하여 다시 작성하시오."
   ]
  },
  {
   "cell_type": "code",
   "execution_count": 46,
   "metadata": {},
   "outputs": [],
   "source": [
    "dates = ['1945/8/15', '1946/9/1', '1960/4/19', '1980/5/18', '2013/3/1']"
   ]
  },
  {
   "cell_type": "code",
   "execution_count": 47,
   "metadata": {},
   "outputs": [
    {
     "name": "stdout",
     "output_type": "stream",
     "text": [
      "수요일\n",
      "일요일\n",
      "화요일\n",
      "일요일\n",
      "금요일\n"
     ]
    }
   ],
   "source": [
    "for date in dates:\n",
    "    print(arrow.get(date).format('dddd', locale='ko'))"
   ]
  },
  {
   "cell_type": "code",
   "execution_count": 48,
   "metadata": {},
   "outputs": [
    {
     "data": {
      "text/plain": [
       "['수요일', '일요일', '화요일', '일요일', '금요일']"
      ]
     },
     "execution_count": 48,
     "metadata": {},
     "output_type": "execute_result"
    }
   ],
   "source": [
    "# list comprehension 사용\n",
    "[arrow.get(date).format('dddd', locale = 'ko') for date in dates]"
   ]
  },
  {
   "cell_type": "code",
   "execution_count": 49,
   "metadata": {},
   "outputs": [
    {
     "data": {
      "text/plain": [
       "['수요일', '일요일', '화요일', '일요일', '금요일']"
      ]
     },
     "execution_count": 49,
     "metadata": {},
     "output_type": "execute_result"
    }
   ],
   "source": [
    "# map과 lambda 함수 사용\n",
    "list(map(lambda x: arrow.get(x).format('dddd', locale = 'ko'), dates))"
   ]
  },
  {
   "cell_type": "code",
   "execution_count": 50,
   "metadata": {},
   "outputs": [
    {
     "data": {
      "text/plain": [
       "<map at 0x1065b6850>"
      ]
     },
     "execution_count": 50,
     "metadata": {},
     "output_type": "execute_result"
    }
   ],
   "source": [
    "#그냥 map 함수를 사용하였을 때에는 주소만을 반환.\n",
    "map(lambda x: arrow.get(x).format('dddd', locale = 'ko'), dates)"
   ]
  },
  {
   "cell_type": "markdown",
   "metadata": {},
   "source": [
    "# 문자열 관련 메소드"
   ]
  },
  {
   "cell_type": "markdown",
   "metadata": {},
   "source": [
    "### format\n",
    "문자열에 원하는 값을 대입할 수 있게 해준다."
   ]
  },
  {
   "cell_type": "markdown",
   "metadata": {},
   "source": [
    "문자열 안에 `{ }`를 넣어준 후, `format()`을 부르고 안에 원하는 값을 넣는다."
   ]
  },
  {
   "cell_type": "code",
   "execution_count": 51,
   "metadata": {
    "scrolled": true
   },
   "outputs": [
    {
     "data": {
      "text/plain": [
       "'제 키는 180 센치이며, 몸무게는 비밀입니다'"
      ]
     },
     "execution_count": 51,
     "metadata": {},
     "output_type": "execute_result"
    }
   ],
   "source": [
    "'제 키는 {}이며, 몸무게는 {}입니다'.format('180 센치', '비밀')"
   ]
  },
  {
   "cell_type": "markdown",
   "metadata": {},
   "source": [
    "숫자 자리수나 소숫점 자리수를 지정할 수 있다."
   ]
  },
  {
   "cell_type": "code",
   "execution_count": 52,
   "metadata": {},
   "outputs": [
    {
     "ename": "IndexError",
     "evalue": "tuple index out of range",
     "output_type": "error",
     "traceback": [
      "\u001b[0;31m---------------------------------------------------------------------------\u001b[0m",
      "\u001b[0;31mIndexError\u001b[0m                                Traceback (most recent call last)",
      "\u001b[0;32m<ipython-input-52-4bd84b753bcf>\u001b[0m in \u001b[0;36m<module>\u001b[0;34m\u001b[0m\n\u001b[0;32m----> 1\u001b[0;31m \u001b[0;34m'제 키는 {}이며, 몸무게는 {}{}입니다'\u001b[0m\u001b[0;34m.\u001b[0m\u001b[0mformat\u001b[0m\u001b[0;34m(\u001b[0m\u001b[0;34m'180 센치'\u001b[0m\u001b[0;34m,\u001b[0m \u001b[0;34m'비밀'\u001b[0m\u001b[0;34m)\u001b[0m\u001b[0;34m\u001b[0m\u001b[0;34m\u001b[0m\u001b[0m\n\u001b[0m\u001b[1;32m      2\u001b[0m \u001b[0;31m#포멧의 값의 개수와 {}의 개수가 맞지 않으면 에러 발생.\u001b[0m\u001b[0;34m\u001b[0m\u001b[0;34m\u001b[0m\u001b[0;34m\u001b[0m\u001b[0m\n",
      "\u001b[0;31mIndexError\u001b[0m: tuple index out of range"
     ]
    }
   ],
   "source": [
    "'제 키는 {}이며, 몸무게는 {}{}입니다'.format('180 센치', '비밀')\n",
    "#포멧의 값의 개수와 {}의 개수가 맞지 않으면 에러 발생."
   ]
  },
  {
   "cell_type": "code",
   "execution_count": 53,
   "metadata": {},
   "outputs": [
    {
     "data": {
      "text/plain": [
       "'제 키는 180cm이며, 몸무게는 88.3kg, 체지방률은 35.00%입니다'"
      ]
     },
     "execution_count": 53,
     "metadata": {},
     "output_type": "execute_result"
    }
   ],
   "source": [
    "'제 키는 {:2d}cm이며, 몸무게는 {:.1f}kg, 체지방률은 {:2.2%}입니다'.format(180, 88.33, .35)\n",
    "#.f를 통해 소수점 자리수를 정함. ex) .1f는 소수점 1자리 수까지를 출력."
   ]
  },
  {
   "cell_type": "markdown",
   "metadata": {},
   "source": [
    "### f-String\n",
    "파이썬 3.6버전 이상에서 지원하는 새로운 문자열 포매팅 방법:  \n",
    "https://realpython.com/python-f-strings/"
   ]
  },
  {
   "cell_type": "code",
   "execution_count": 54,
   "metadata": {},
   "outputs": [
    {
     "data": {
      "text/plain": [
       "'나의 이름은 홍길동입니다. 나이는 31입니다.'"
      ]
     },
     "execution_count": 54,
     "metadata": {},
     "output_type": "execute_result"
    }
   ],
   "source": [
    "name = '홍길동'\n",
    "age = 30\n",
    "f'나의 이름은 {name}입니다. 나이는 {age+1}입니다.'"
   ]
  },
  {
   "cell_type": "code",
   "execution_count": 55,
   "metadata": {},
   "outputs": [
    {
     "data": {
      "text/plain": [
       "'나의 이름은 {name}입니다. 나이는 {age+1}입니다.'"
      ]
     },
     "execution_count": 55,
     "metadata": {},
     "output_type": "execute_result"
    }
   ],
   "source": [
    "name = '정성윤'\n",
    "age = 22\n",
    "'나의 이름은 {name}입니다. 나이는 {age+1}입니다.'\n",
    "#f를 사용하지 않으면 문자열 그대로를 출력. formating이 되지 않음."
   ]
  },
  {
   "cell_type": "markdown",
   "metadata": {},
   "source": [
    "### join\n",
    "문자열을 특정 글자로 합쳐준다."
   ]
  },
  {
   "cell_type": "code",
   "execution_count": 56,
   "metadata": {},
   "outputs": [
    {
     "data": {
      "text/plain": [
       "'a,b,c,d'"
      ]
     },
     "execution_count": 56,
     "metadata": {},
     "output_type": "execute_result"
    }
   ],
   "source": [
    "','.join('abcd')  # 'abcd' 사이에 쉼표를 추가"
   ]
  },
  {
   "cell_type": "markdown",
   "metadata": {},
   "source": [
    "### split\n",
    "특정 글자로 문자열을 나눈다."
   ]
  },
  {
   "cell_type": "code",
   "execution_count": 57,
   "metadata": {
    "scrolled": true
   },
   "outputs": [
    {
     "data": {
      "text/plain": [
       "['사과', '오렌지', '포도', '딸기']"
      ]
     },
     "execution_count": 57,
     "metadata": {},
     "output_type": "execute_result"
    }
   ],
   "source": [
    "'사과,오렌지,포도,딸기'.split(',')  # 쉼표를 기준으로 문자열 분리"
   ]
  },
  {
   "cell_type": "code",
   "execution_count": 58,
   "metadata": {},
   "outputs": [
    {
     "data": {
      "text/plain": [
       "'사과/ 오렌지/ 포도/ 딸기'"
      ]
     },
     "execution_count": 58,
     "metadata": {},
     "output_type": "execute_result"
    }
   ],
   "source": [
    "'/'.join('사과, 오렌지, 포도, 딸기'.split(','))\n",
    "#split으로 문자열을 나눈후 join으로 다시 붙임."
   ]
  },
  {
   "cell_type": "markdown",
   "metadata": {},
   "source": [
    "### strip\n",
    "문자열 앞뒤(양끝)의 공백을 지운다."
   ]
  },
  {
   "cell_type": "code",
   "execution_count": 59,
   "metadata": {},
   "outputs": [
    {
     "data": {
      "text/plain": [
       "'안녕하세요'"
      ]
     },
     "execution_count": 59,
     "metadata": {},
     "output_type": "execute_result"
    }
   ],
   "source": [
    "' 안녕하세요 '.strip()"
   ]
  },
  {
   "cell_type": "code",
   "execution_count": 60,
   "metadata": {},
   "outputs": [
    {
     "data": {
      "text/plain": [
       "'안녕하 세요'"
      ]
     },
     "execution_count": 60,
     "metadata": {},
     "output_type": "execute_result"
    }
   ],
   "source": [
    "# 단, 문자열 내부의 빈 공백은 지우지 않는다.\n",
    "' 안녕하 세요 '.strip()"
   ]
  },
  {
   "cell_type": "markdown",
   "metadata": {},
   "source": [
    "### replace\n",
    "특정 글자를 다른 글자로 바꿔준다"
   ]
  },
  {
   "cell_type": "code",
   "execution_count": 61,
   "metadata": {},
   "outputs": [
    {
     "data": {
      "text/plain": [
       "'안녕하세요'"
      ]
     },
     "execution_count": 61,
     "metadata": {},
     "output_type": "execute_result"
    }
   ],
   "source": [
    "'안녕하 세요'.replace(' ', '')  # 문자열 중간의 띄어쓰기 교체"
   ]
  },
  {
   "cell_type": "code",
   "execution_count": 62,
   "metadata": {
    "scrolled": true
   },
   "outputs": [
    {
     "data": {
      "text/plain": [
       "'파이썬은 참 쉽습니다?'"
      ]
     },
     "execution_count": 62,
     "metadata": {},
     "output_type": "execute_result"
    }
   ],
   "source": [
    "'파이쏜은 참 쉽습니다?'.replace('쏜', '썬')  # '쏜'을 '썬'으로 교체"
   ]
  },
  {
   "cell_type": "markdown",
   "metadata": {},
   "source": [
    "## Ex 추가) 여러개 문자를 기준으로 문자열을 자르는 방법이 있나요?"
   ]
  },
  {
   "cell_type": "code",
   "execution_count": 63,
   "metadata": {},
   "outputs": [
    {
     "data": {
      "text/plain": [
       "['Hey', 'you', 'what', 'are', 'you', 'doing', 'here']"
      ]
     },
     "execution_count": 63,
     "metadata": {},
     "output_type": "execute_result"
    }
   ],
   "source": [
    "txt =\"Hey, you - what are you doing here?!\"\n",
    "\n",
    "txt.replace(',',\"\").replace('-',\"\").replace('?!',\"\").split()\n",
    "#메소트 체이닝: 메소드를 계속 사용할 수 있음.\n",
    "#split을 사용하는 순간 리스트 형태로 변환됨."
   ]
  },
  {
   "cell_type": "markdown",
   "metadata": {},
   "source": [
    "### in, not in"
   ]
  },
  {
   "cell_type": "markdown",
   "metadata": {},
   "source": [
    "`in`을 사용해 문자열 안에 해당 글자가 포함되었는지 확인할 수 있다."
   ]
  },
  {
   "cell_type": "code",
   "execution_count": 64,
   "metadata": {},
   "outputs": [
    {
     "data": {
      "text/plain": [
       "True"
      ]
     },
     "execution_count": 64,
     "metadata": {},
     "output_type": "execute_result"
    }
   ],
   "source": [
    "'사과' in '오늘의 메뉴는 밥, 미역국, 사과입니다.'  # '사과'가 문자열에 포함되었는지 확인"
   ]
  },
  {
   "cell_type": "markdown",
   "metadata": {},
   "source": [
    "`not in`을 사용해 반대로 해당 글자가 없는지 확인할 수 있다."
   ]
  },
  {
   "cell_type": "code",
   "execution_count": 65,
   "metadata": {},
   "outputs": [
    {
     "data": {
      "text/plain": [
       "False"
      ]
     },
     "execution_count": 65,
     "metadata": {},
     "output_type": "execute_result"
    }
   ],
   "source": [
    "'사과' not in '오늘의 메뉴는 밥, 미역국, 사과입니다.'  # '사과'가 문자열에 없는지 확인"
   ]
  },
  {
   "cell_type": "markdown",
   "metadata": {},
   "source": [
    "### count, find, index"
   ]
  },
  {
   "cell_type": "markdown",
   "metadata": {},
   "source": [
    "`count()`는 해당 글자가 문자열에서 몇 번 쓰였는지 확인해준다."
   ]
  },
  {
   "cell_type": "code",
   "execution_count": 66,
   "metadata": {},
   "outputs": [
    {
     "data": {
      "text/plain": [
       "3"
      ]
     },
     "execution_count": 66,
     "metadata": {},
     "output_type": "execute_result"
    }
   ],
   "source": [
    "text = 'hello world' \n",
    "text.count('l')  # 알파벳 'l' 이 몇번 쓰였는지 확인"
   ]
  },
  {
   "cell_type": "markdown",
   "metadata": {},
   "source": [
    "`index()`는 해당 글자의 위치를 확인해준다."
   ]
  },
  {
   "cell_type": "code",
   "execution_count": 67,
   "metadata": {},
   "outputs": [
    {
     "data": {
      "text/plain": [
       "6"
      ]
     },
     "execution_count": 67,
     "metadata": {},
     "output_type": "execute_result"
    }
   ],
   "source": [
    "text.index('w')  # 'w'의 위치 확인"
   ]
  },
  {
   "cell_type": "markdown",
   "metadata": {},
   "source": [
    "### capitalize, lower, upper"
   ]
  },
  {
   "cell_type": "markdown",
   "metadata": {},
   "source": [
    "`capitalize()`는 문장의 첫 글자를 대문자로 바꾼다."
   ]
  },
  {
   "cell_type": "code",
   "execution_count": 68,
   "metadata": {},
   "outputs": [
    {
     "data": {
      "text/plain": [
       "'Hello world'"
      ]
     },
     "execution_count": 68,
     "metadata": {},
     "output_type": "execute_result"
    }
   ],
   "source": [
    "'hello world'.capitalize()"
   ]
  },
  {
   "cell_type": "markdown",
   "metadata": {},
   "source": [
    "`lower()`는 모든 글자를 소문자로 바꾼다."
   ]
  },
  {
   "cell_type": "code",
   "execution_count": 69,
   "metadata": {},
   "outputs": [
    {
     "data": {
      "text/plain": [
       "'hello world'"
      ]
     },
     "execution_count": 69,
     "metadata": {},
     "output_type": "execute_result"
    }
   ],
   "source": [
    "'HeLLO woRlD'.lower()"
   ]
  },
  {
   "cell_type": "markdown",
   "metadata": {},
   "source": [
    "`upper()`는 모든 글자를 대문자로 바꾼다."
   ]
  },
  {
   "cell_type": "code",
   "execution_count": 70,
   "metadata": {},
   "outputs": [
    {
     "data": {
      "text/plain": [
       "'MBC, SBS, KBS'"
      ]
     },
     "execution_count": 70,
     "metadata": {},
     "output_type": "execute_result"
    }
   ],
   "source": [
    "'mBc, sBs, Kbs'.upper()"
   ]
  },
  {
   "cell_type": "markdown",
   "metadata": {},
   "source": [
    "### startswith, endswith"
   ]
  },
  {
   "cell_type": "markdown",
   "metadata": {},
   "source": [
    "`startswith()`는 문자열이 해당 글자로 시작하는지 확인해준다."
   ]
  },
  {
   "cell_type": "code",
   "execution_count": 71,
   "metadata": {},
   "outputs": [
    {
     "data": {
      "text/plain": [
       "True"
      ]
     },
     "execution_count": 71,
     "metadata": {},
     "output_type": "execute_result"
    }
   ],
   "source": [
    "'보고서 작성 중'.startswith('보고서') # 문자열이 '보고서'로 시작하는지 확인"
   ]
  },
  {
   "cell_type": "markdown",
   "metadata": {},
   "source": [
    "`endswith()`는 문자열이 해당 글자로 끝나는지 확인해준다."
   ]
  },
  {
   "cell_type": "code",
   "execution_count": 72,
   "metadata": {},
   "outputs": [
    {
     "data": {
      "text/plain": [
       "True"
      ]
     },
     "execution_count": 72,
     "metadata": {},
     "output_type": "execute_result"
    }
   ],
   "source": [
    "'보고서 작성 중?'.endswith('?') # 문자열이 '완료'로 끝나는지 확인"
   ]
  },
  {
   "cell_type": "markdown",
   "metadata": {},
   "source": [
    "# 연습문제"
   ]
  },
  {
   "cell_type": "markdown",
   "metadata": {},
   "source": [
    "### 문제 21)\n",
    "년, 월, 일을 입력받아 요일(한글명)을 출력하는 프로그램을 작성하시오."
   ]
  },
  {
   "cell_type": "code",
   "execution_count": 73,
   "metadata": {
    "scrolled": false
   },
   "outputs": [
    {
     "name": "stdout",
     "output_type": "stream",
     "text": [
      "연도: 2020\n",
      "월: 5\n",
      "일: 3\n"
     ]
    }
   ],
   "source": [
    "year = input('연도: ')\n",
    "month = input('월: ')\n",
    "day = input('일: ')"
   ]
  },
  {
   "cell_type": "code",
   "execution_count": 74,
   "metadata": {},
   "outputs": [
    {
     "data": {
      "text/plain": [
       "'일요일'"
      ]
     },
     "execution_count": 74,
     "metadata": {},
     "output_type": "execute_result"
    }
   ],
   "source": [
    "date = arrow.get(year+'-'+month+'-'+day)\n",
    "date.format('dddd', locale = 'ko')"
   ]
  },
  {
   "cell_type": "markdown",
   "metadata": {},
   "source": [
    "### 문제 22)\n",
    "본인에게 있어 중요한 날 또는 기념일을 입력하면 현재 날짜 기준으로 몇일 남았는지 또는 몇일 지났는지 또는 오늘인지를 친절하게 알려주는 프로그램을 만드시오.\n",
    "```python\n",
    ">>> 기념일을 입력하세요. (형식 YYYY-MM-DD): 2019-05-02\n",
    "23일 뒤입니다.\n",
    "```"
   ]
  },
  {
   "cell_type": "code",
   "execution_count": 75,
   "metadata": {},
   "outputs": [
    {
     "name": "stdout",
     "output_type": "stream",
     "text": [
      "기념일을 입력하세요. (형식 YYYY-MM-DD): 2020-05-08\n"
     ]
    }
   ],
   "source": [
    "date = input('기념일을 입력하세요. (형식 YYYY-MM-DD): ')"
   ]
  },
  {
   "cell_type": "code",
   "execution_count": 76,
   "metadata": {},
   "outputs": [
    {
     "data": {
      "text/plain": [
       "-5"
      ]
     },
     "execution_count": 76,
     "metadata": {},
     "output_type": "execute_result"
    }
   ],
   "source": [
    "days = (arrow.now() - arrow.get(date)).days\n",
    "days"
   ]
  },
  {
   "cell_type": "code",
   "execution_count": 77,
   "metadata": {},
   "outputs": [
    {
     "name": "stdout",
     "output_type": "stream",
     "text": [
      "기념일까지 5일이 남았습니다.\n"
     ]
    }
   ],
   "source": [
    "if days == 0:\n",
    "    print('오늘입니다!!')\n",
    "elif days < 0:\n",
    "    print('기념일까지 {}일이 남았습니다.'.format(abs(days)))\n",
    "elif days > 0:\n",
    "    print('기념일까지 {}일이 지났습니다.'.format(abs(days)))"
   ]
  },
  {
   "cell_type": "markdown",
   "metadata": {},
   "source": [
    "### 문제 23)\n",
    "아래 코드를 실행하면 2019년도 4월 달력이 출력된다.\n",
    "```python\n",
    "print('{}년 {}월'.format(arrow.now().year, arrow.now().month))\n",
    "print('일 월 화 수 목 금 토')\n",
    "for i in range(1,31):\n",
    "    print('{:2}'.format(i), end=' ')       # 일자를 2자리로 맞추어 출력하고, 일자와 일자 사이에 공백 하나를 둔다.\n",
    "    if arrow.get(2019,4,i).weekday() == 5: # 토요일이면,\n",
    "        print()                            # 다음 라인으로 넘긴다.\n",
    "```  \n",
    "```\n",
    "2019년 4월\n",
    "일 월 화 수 목 금 토\n",
    " 1  2  3  4  5  6 \n",
    " 7  8  9 10 11 12 13 \n",
    "14 15 16 17 18 19 20 \n",
    "21 22 23 24 25 26 27 \n",
    "28 29 30\n",
    "```\n",
    "하지만 이 코드에는 오류가 있다. 즉, 4월1일부터 6일까지 하루씩 앞당겨 잘못된 요일을 출력한다는 점(4월1일은 월요일)이다.  \n",
    "어떻게 수정하면 제대로 된 달력을 출력할 수 있을까? "
   ]
  },
  {
   "cell_type": "code",
   "execution_count": 78,
   "metadata": {},
   "outputs": [
    {
     "name": "stdout",
     "output_type": "stream",
     "text": [
      "2019년 4월\n",
      "일 월 화 수 목 금 토\n",
      "    1  2  3  4  5  6 \n",
      " 7  8  9 10 11 12 13 \n",
      "14 15 16 17 18 19 20 \n",
      "21 22 23 24 25 26 27 \n",
      "28 29 30 "
     ]
    }
   ],
   "source": [
    "print('{}년 {}월'.format(arrow.now().year-1, arrow.now().month-1))\n",
    "print('일 월 화 수 목 금 토')\n",
    "\n",
    "#4월 1일의 요일의 인덱스 번호 +1 만큼 빈칸을 만들어준다.\n",
    "for i in range(arrow.get(2019,4,1).weekday()+1):\n",
    "    print(\"  \", end = \" \")\n",
    "\n",
    "for i in range(1,31):\n",
    "    print('{:2}'.format(i), end=' ')       # 일자를 2자리로 맞추어 출력하고, 일자와 일자 사이에 공백 하나를 둔다.\n",
    "    if arrow.get(2019,4,i).weekday() == 5: # 토요일이면,\n",
    "        print()                            # 다음 라인으로 넘긴다."
   ]
  },
  {
   "cell_type": "markdown",
   "metadata": {},
   "source": [
    "### 문제 24)\n",
    "<img src=\"http://archivenew.vop.co.kr/images/9c419c2c579399e3db2fab3e8fdc473f/2011-11/09065222_02c0301_010.gif\" width=500 height=350><br>\n",
    "주민등록번호를 입력하면 성별과 나이(우리나라 나이)를 출력하는 프로그램을 작성하시오. *Hint: 문자열 인덱싱은 리스트 인덱싱과 동일함*\n",
    "```python\n",
    ">>> 주민번호를 입력하세요: 990108-1234567\n",
    "성별: 남\n",
    "나이: 20    \n",
    "```"
   ]
  },
  {
   "cell_type": "code",
   "execution_count": 79,
   "metadata": {},
   "outputs": [
    {
     "name": "stdout",
     "output_type": "stream",
     "text": [
      "주민번호를 입력하세요: 990420-1088888\n"
     ]
    }
   ],
   "source": [
    "ssn = input('주민번호를 입력하세요: ')"
   ]
  },
  {
   "cell_type": "code",
   "execution_count": 80,
   "metadata": {
    "scrolled": false
   },
   "outputs": [],
   "source": [
    "#7번 인덱스의 값이 1 또는 3이면 남자, 그렇지 않으면 남자\n",
    "if ssn[7] == '1' or ssn[7]== '3':\n",
    "    sex = '남'\n",
    "else:\n",
    "    sex = '여'"
   ]
  },
  {
   "cell_type": "code",
   "execution_count": 81,
   "metadata": {},
   "outputs": [],
   "source": [
    "#주민등록번호의 앞에서 두자리의 값이 21보다 크거나 같으면 1900년대 사람, 그렇지 않으면 2000년대 사람으로 간주.\n",
    "if int(ssn[:2]) >= 21 and int (ssn[:2]) < 100 :\n",
    "    y = int(ssn[:2]) + 1900\n",
    "else:\n",
    "    y = int(ssn[:2]) + 2000\n",
    "    \n",
    "#오늘 날짜의 연도만을 추출해서 태어난 연도를 뺍니다. 이후 만나이를 고려하지 않는 것으로 +1을 합니다.\n",
    "age = int(arrow.now().year) - y + 1"
   ]
  },
  {
   "cell_type": "code",
   "execution_count": 82,
   "metadata": {},
   "outputs": [
    {
     "name": "stdout",
     "output_type": "stream",
     "text": [
      "성별: 남 \n",
      "나이: 22 \n"
     ]
    }
   ],
   "source": [
    "print(f\"성별: {sex} \\n나이: {age} \")"
   ]
  },
  {
   "cell_type": "markdown",
   "metadata": {},
   "source": [
    "### 문제 25)"
   ]
  },
  {
   "cell_type": "markdown",
   "metadata": {},
   "source": [
    "현재까지의 강의 전반에 대해 총평을 하고, 개선 및 건의 사항이 있으면 적극 말하시오."
   ]
  },
  {
   "cell_type": "markdown",
   "metadata": {},
   "source": [
    " >과제가 적당히 있기 떄문에 복습하기에 좋습니다.\n",
    " 또한 과제가 교수님꼐서 수업시간에 말씀해주신 범위와 수준아래에 있기 때문에 좋은것 같습니다."
   ]
  },
  {
   "cell_type": "markdown",
   "metadata": {},
   "source": [
    "<font color = \"#CC3D3D\"><p>\n",
    "# End"
   ]
  }
 ],
 "metadata": {
  "kernelspec": {
   "display_name": "Python 3",
   "language": "python",
   "name": "python3"
  },
  "language_info": {
   "codemirror_mode": {
    "name": "ipython",
    "version": 3
   },
   "file_extension": ".py",
   "mimetype": "text/x-python",
   "name": "python",
   "nbconvert_exporter": "python",
   "pygments_lexer": "ipython3",
   "version": "3.7.6"
  }
 },
 "nbformat": 4,
 "nbformat_minor": 2
}
